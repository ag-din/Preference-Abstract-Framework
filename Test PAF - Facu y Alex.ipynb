{
 "cells": [
  {
   "cell_type": "code",
   "execution_count": 4,
   "metadata": {},
   "outputs": [],
   "source": [
    "# Importo file de la implementación del PAF.\n",
    "import PreferenceAF as paf"
   ]
  },
  {
   "cell_type": "code",
   "execution_count": 20,
   "metadata": {},
   "outputs": [],
   "source": [
    "# Ejemplos de A (arguments), R (relations) y Pref (preferences)\n",
    "arguments = {\"a\", \"b\", \"c\", \"d\"}\n",
    "relations = {(\"a\",\"b\"), (\"c\",\"d\"), (\"d\",\"c\")}\n",
    "preferences = [([\"a\"], [\"b\", \"c\"], [\"d\"])]  # complete, todo arg en A es comparable"
   ]
  },
  {
   "cell_type": "code",
   "execution_count": 21,
   "metadata": {},
   "outputs": [],
   "source": [
    "# Creo una instancia de la clase PAF y la inicializo con \"arguments\", \"relations\" y \"preferences\"\n",
    "Paf = paf.PAF(arguments, relations, preferences)"
   ]
  },
  {
   "cell_type": "markdown",
   "metadata": {},
   "source": [
    "##### Dado un AF, todo argumento $a \\in A$ puede pertenecer a una de tres clases de argumentos posibles: aceptable, rechazado o en suspención. (REVISAR DEFINICIÓN)"
   ]
  },
  {
   "cell_type": "code",
   "execution_count": 22,
   "metadata": {},
   "outputs": [
    {
     "data": {
      "text/plain": [
       "{'a', 'c'}"
      ]
     },
     "execution_count": 22,
     "metadata": {},
     "output_type": "execute_result"
    }
   ],
   "source": [
    "#The class of acceptable arguments, denoted by Acc_{R, Pref} is the set...\n",
    "Paf.argumentClass.arg_acceptable_class()"
   ]
  },
  {
   "cell_type": "code",
   "execution_count": 23,
   "metadata": {},
   "outputs": [
    {
     "data": {
      "text/plain": [
       "{'b', 'd'}"
      ]
     },
     "execution_count": 23,
     "metadata": {},
     "output_type": "execute_result"
    }
   ],
   "source": [
    "#The class of rejected arguments, denoted by Rej_{R, Pref} is the set...\n",
    "Paf.argumentClass.arg_rejected_class()"
   ]
  },
  {
   "cell_type": "code",
   "execution_count": 24,
   "metadata": {},
   "outputs": [
    {
     "data": {
      "text/plain": [
       "set()"
      ]
     },
     "execution_count": 24,
     "metadata": {},
     "output_type": "execute_result"
    }
   ],
   "source": [
    "# The class of arguments in abeyance, denoted by Ab_{R, Pref} is the set A\\(Acc_R ∪ Rej_R).\n",
    "Paf.argumentClass.arg_abeyance_class()"
   ]
  },
  {
   "cell_type": "markdown",
   "metadata": {},
   "source": [
    "##### Conflict-Free"
   ]
  },
  {
   "cell_type": "code",
   "execution_count": 25,
   "metadata": {},
   "outputs": [
    {
     "data": {
      "text/plain": [
       "{(),\n",
       " ('a',),\n",
       " ('b',),\n",
       " ('b', 'c'),\n",
       " ('c',),\n",
       " ('c', 'a'),\n",
       " ('d',),\n",
       " ('d', 'a'),\n",
       " ('d', 'b')}"
      ]
     },
     "execution_count": 25,
     "metadata": {},
     "output_type": "execute_result"
    }
   ],
   "source": [
    "# A set S of arguments is said to be conflict-free if there are\n",
    "# no arguments A and B in S such that A attacks B in the sense of PAF\n",
    "Paf.compute_cfs()"
   ]
  },
  {
   "cell_type": "markdown",
   "metadata": {},
   "source": [
    "###### An argument a in A is acceptable with respect to a set S of arguments iff, S defends a:  for each argument b in A if b attacks a in the sense of PAF then b is attacked by S.\n",
    "###### A conflict-free set of arguments S is admissible iff each argument in S is acceptable with respect to S."
   ]
  },
  {
   "cell_type": "markdown",
   "metadata": {},
   "source": [
    "##### Acceptability Semantics (Stable, Grounded, Complete and Preferred)"
   ]
  },
  {
   "cell_type": "code",
   "execution_count": 26,
   "metadata": {},
   "outputs": [
    {
     "data": {
      "text/plain": [
       "{('c', 'a')}"
      ]
     },
     "execution_count": 26,
     "metadata": {},
     "output_type": "execute_result"
    }
   ],
   "source": [
    "# B is a stable extension iff B is conflict-free and ∀a ∈ A\\B , ∃b ∈ B such that b attacks (sense of PAF)a.\n",
    "sem = Paf.semantics.compute_stable_extensions()\n",
    "sem"
   ]
  },
  {
   "cell_type": "code",
   "execution_count": 27,
   "metadata": {},
   "outputs": [
    {
     "data": {
      "text/plain": [
       "{()}"
      ]
     },
     "execution_count": 27,
     "metadata": {},
     "output_type": "execute_result"
    }
   ],
   "source": [
    "# B is the (unique) grounded extension of AF only if it is the smallest element (with respect to set inclusion)\n",
    "# among the complete extensions of AF.\n",
    "Paf.semantics.compute_grounded_extensions()"
   ]
  },
  {
   "cell_type": "code",
   "execution_count": 28,
   "metadata": {},
   "outputs": [
    {
     "data": {
      "text/plain": [
       "{(), ('c', 'a')}"
      ]
     },
     "execution_count": 28,
     "metadata": {},
     "output_type": "execute_result"
    }
   ],
   "source": [
    "# An admissible set of arguments B is called a complete extension iff each argument, which is\n",
    "# acceptable with respet to B, belongs to B.\n",
    "Paf.semantics.compute_complete_extensions()"
   ]
  },
  {
   "cell_type": "code",
   "execution_count": 29,
   "metadata": {},
   "outputs": [
    {
     "data": {
      "text/plain": [
       "{('c', 'a')}"
      ]
     },
     "execution_count": 29,
     "metadata": {},
     "output_type": "execute_result"
    }
   ],
   "source": [
    "# B is a preferred extension iff it is a maximal (wrt set ⊆) admissible set.\n",
    "Paf.semantics.compute_preferred_extensions()"
   ]
  },
  {
   "cell_type": "markdown",
   "metadata": {},
   "source": [
    "##### Estado de cada argumento en A bajo una cierta semántica (ej. estable): Rechazado, Aceptado crédulamente y Aceptado escépticamente."
   ]
  },
  {
   "cell_type": "code",
   "execution_count": 30,
   "metadata": {},
   "outputs": [
    {
     "data": {
      "text/plain": [
       "{'b', 'd'}"
      ]
     },
     "execution_count": 30,
     "metadata": {},
     "output_type": "execute_result"
    }
   ],
   "source": [
    "# Es el conjunto de argumentos a en A que no están presenten en singuna extensión de cierta semántica.\n",
    "Paf.semantics.status.rejected(sem)"
   ]
  },
  {
   "cell_type": "code",
   "execution_count": 31,
   "metadata": {},
   "outputs": [
    {
     "data": {
      "text/plain": [
       "{'a', 'c'}"
      ]
     },
     "execution_count": 31,
     "metadata": {},
     "output_type": "execute_result"
    }
   ],
   "source": [
    "# Es el conjunto de argumentos a en A que pertenecen al menos en una extensión de cierta semántica.\n",
    "Paf.semantics.status.credulouslyAccepted(sem)"
   ]
  },
  {
   "cell_type": "code",
   "execution_count": 32,
   "metadata": {},
   "outputs": [
    {
     "data": {
      "text/plain": [
       "{'a', 'c'}"
      ]
     },
     "execution_count": 32,
     "metadata": {},
     "output_type": "execute_result"
    }
   ],
   "source": [
    "# Es el conjunto de argumentos a en A que pertenecen a todas las extensiones de cierta semántica.\n",
    "Paf.semantics.status.skepticallyAccepted(sem)"
   ]
  },
  {
   "cell_type": "markdown",
   "metadata": {},
   "source": [
    "## Software Testing"
   ]
  },
  {
   "cell_type": "markdown",
   "metadata": {},
   "source": [
    "**Funciones a testear**\n",
    "\n",
    "*Basic:*\n",
    "01. ```def argInPref(self, arg)```\n",
    "02. ```def allArgumentsInPref(self)```\n",
    "03. ```def is_completePref(self)```\n",
    "04. ```def comparePref(self, arg1, arg2)```\n",
    "05. ```def is_attackedPAF(self, arg)```\n",
    "06. ```def relationsPaf(self)```\n",
    "07. ```def powerset(self, iterable)```\n",
    "08. ```def is_attackedPAF(self, arg)```\n",
    "09. ```def get_arg_attackers(self, arg)```\n",
    "10. ```def get_attacked_args(self, set_of_args)```\n",
    "11. ```def checkArgumentsInRelations(self)```\n",
    "\n",
    "*Conflict-Free Subsets in AF:*\n",
    "12. ```def compute_cfs(self)```\n",
    "\n",
    "*Acceptability of an argument respect to a subset:*\n",
    "13. ```def compute_acceptability(self, arg, E)```\n",
    "\n",
    "*Admissibility sets:*\n",
    "14. ```def compute_admissibility(self, cfs)```\n",
    "\n",
    "*Argument classes in AF:*\n",
    "15. ```def arg_acceptable_class(self)```\n",
    "16. ```def arg_rejected_class(self)```\n",
    "17. ```def arg_abeyance_class(self)```\n",
    "\n",
    "*Acceptability semantics:*\n",
    "18. ```def compute_stable_extensions(self)```\n",
    "19. ```def compute_grounded_extensions(self)```\n",
    "20. ```def compute_preferred_extensions(self)```\n",
    "21. ```def compute_complete_extensions(self)```\n",
    "\n",
    "*Argument status under a semantics:*\n",
    "22. ```def skepticallyAccepted(self, sem)```\n",
    "23. ```def credulouslyAccepted(self, sem)```\n",
    "24. ```def rejected(self, sem)```"
   ]
  },
  {
   "cell_type": "markdown",
   "metadata": {},
   "source": [
    "##### Función: is_attackedPAF"
   ]
  },
  {
   "cell_type": "code",
   "execution_count": 42,
   "metadata": {},
   "outputs": [
    {
     "data": {
      "text/plain": [
       "True"
      ]
     },
     "execution_count": 42,
     "metadata": {},
     "output_type": "execute_result"
    }
   ],
   "source": [
    "def testCase_1():\n",
    "    \"\"\"\n",
    "    b pertenece a arguments y es atacado por a y d en R pero a>b y b>d, luego es efectivamente atacado por a\n",
    "\n",
    "    \"\"\"\n",
    "    arguments = {\"a\", \"b\", \"c\", \"d\"}\n",
    "    relations = {(\"a\",\"b\"), (\"c\",\"d\"), (\"d\",\"c\"), (\"d\",\"b\")}\n",
    "    preferences = [([\"a\"], [\"b\", \"c\"], [\"d\"])]  # complete, todo arg en A es comparable\n",
    "    \n",
    "    Paf = paf.PAF(arguments, relations, preferences)\n",
    "    \n",
    "    if Paf.is_attackedPAF(\"b\") == True:\n",
    "        return True\n",
    "    else:\n",
    "        return False\n",
    "    \n",
    "testCase_1()"
   ]
  },
  {
   "cell_type": "code",
   "execution_count": 43,
   "metadata": {},
   "outputs": [
    {
     "data": {
      "text/plain": [
       "True"
      ]
     },
     "execution_count": 43,
     "metadata": {},
     "output_type": "execute_result"
    }
   ],
   "source": [
    "def testCase_2():\n",
    "    \"\"\"\n",
    "    b pertenece a arguments y es atacado por a y d en R pero b>a y b>d, luego ningún ataque prospera\n",
    "\n",
    "    \"\"\"\n",
    "    arguments = {\"a\", \"b\", \"c\", \"d\"}\n",
    "    relations = {(\"a\",\"b\"), (\"c\",\"d\"), (\"d\",\"c\"), (\"d\",\"b\")}\n",
    "    preferences = [([\"b\"], [\"a\", \"c\"], [\"d\"])]  # complete, todo arg en A es comparable\n",
    "    \n",
    "    Paf = paf.PAF(arguments, relations, preferences)\n",
    "    \n",
    "    if Paf.is_attackedPAF(\"b\") == False:\n",
    "        return True\n",
    "    else:\n",
    "        return False\n",
    "    \n",
    "testCase_2()"
   ]
  },
  {
   "cell_type": "code",
   "execution_count": 44,
   "metadata": {},
   "outputs": [
    {
     "data": {
      "text/plain": [
       "True"
      ]
     },
     "execution_count": 44,
     "metadata": {},
     "output_type": "execute_result"
    }
   ],
   "source": [
    "def testCase_3():\n",
    "    \"\"\"\n",
    "    b pertenece a arguments y no es atacado en el sentido de R por ningún argumento\n",
    "\n",
    "    \"\"\"\n",
    "    arguments = {\"a\", \"b\", \"c\", \"d\"}\n",
    "    relations = {(\"c\",\"d\"), (\"d\",\"c\")}\n",
    "    preferences = [([\"b\"], [\"a\", \"c\"], [\"d\"])]  # complete, todo arg en A es comparable\n",
    "    \n",
    "    Paf = paf.PAF(arguments, relations, preferences)\n",
    "    \n",
    "    if Paf.is_attackedPAF(\"b\") == False:\n",
    "        return True\n",
    "    else:\n",
    "        return False\n",
    "    \n",
    "testCase_3()"
   ]
  },
  {
   "cell_type": "code",
   "execution_count": 45,
   "metadata": {},
   "outputs": [
    {
     "data": {
      "text/plain": [
       "True"
      ]
     },
     "execution_count": 45,
     "metadata": {},
     "output_type": "execute_result"
    }
   ],
   "source": [
    "def testCase_4():\n",
    "    \"\"\"\n",
    "    w no pertenece a arguments\n",
    "\n",
    "    \"\"\"\n",
    "    arguments = {\"a\", \"b\", \"c\", \"d\"}\n",
    "    relations = {(\"c\",\"d\"), (\"d\",\"c\")}\n",
    "    preferences = [([\"b\"], [\"a\", \"c\"], [\"d\"])]  # complete, todo arg en A es comparable\n",
    "    \n",
    "    Paf = paf.PAF(arguments, relations, preferences)\n",
    "    \n",
    "    if Paf.is_attackedPAF(\"w\") == None:\n",
    "        return True\n",
    "    else:\n",
    "        return False\n",
    "    \n",
    "testCase_4()"
   ]
  },
  {
   "cell_type": "code",
   "execution_count": 46,
   "metadata": {},
   "outputs": [
    {
     "data": {
      "text/plain": [
       "True"
      ]
     },
     "execution_count": 46,
     "metadata": {},
     "output_type": "execute_result"
    }
   ],
   "source": [
    "def testCase_5():\n",
    "    \"\"\"\n",
    "    a pertenece a arguments y es atacado por c en R pero a~~c así que no hay ataque en el sentido PAF\n",
    "\n",
    "    \"\"\"\n",
    "    arguments = {\"a\", \"b\", \"c\", \"d\"}\n",
    "    relations = {(\"c\",\"d\"), (\"d\",\"c\"), (\"c\", \"a\")}\n",
    "    preferences = [([\"b\"], [\"a\", \"c\"], [\"d\"])]  # complete, todo arg en A es comparable\n",
    "    \n",
    "    Paf = paf.PAF(arguments, relations, preferences)\n",
    "    \n",
    "    if Paf.is_attackedPAF(\"a\") == False:\n",
    "        return True\n",
    "    else:\n",
    "        return False\n",
    "    \n",
    "testCase_5()"
   ]
  },
  {
   "cell_type": "markdown",
   "metadata": {},
   "source": [
    "###### Función: allArgumentsInPref"
   ]
  },
  {
   "cell_type": "code",
   "execution_count": 47,
   "metadata": {},
   "outputs": [
    {
     "data": {
      "text/plain": [
       "True"
      ]
     },
     "execution_count": 47,
     "metadata": {},
     "output_type": "execute_result"
    }
   ],
   "source": [
    "def testCase_6():\n",
    "    \"\"\"\n",
    "    Todos los argumentos en A están presentes en Pref\n",
    "\n",
    "    \"\"\"\n",
    "    arguments = {\"a\", \"b\", \"c\", \"d\"}\n",
    "    relations = {(\"c\",\"d\"), (\"d\",\"c\"), (\"c\", \"a\")}\n",
    "    preferences = [([\"b\"], [\"a\", \"c\"], [\"d\"])]  # complete, todo arg en A es comparable\n",
    "    \n",
    "    Paf = paf.PAF(arguments, relations, preferences)\n",
    "    \n",
    "    if Paf.allArgumentsInPref() == True:\n",
    "        return True\n",
    "    else:\n",
    "        return False\n",
    "    \n",
    "testCase_6()"
   ]
  },
  {
   "cell_type": "code",
   "execution_count": 48,
   "metadata": {},
   "outputs": [
    {
     "data": {
      "text/plain": [
       "True"
      ]
     },
     "execution_count": 48,
     "metadata": {},
     "output_type": "execute_result"
    }
   ],
   "source": [
    "def testCase_7():\n",
    "    \"\"\"\n",
    "    No todos los argumentos en A están presentes en Pref\n",
    "\n",
    "    \"\"\"\n",
    "    arguments = {\"a\", \"b\", \"c\", \"d\"}\n",
    "    relations = {(\"c\",\"d\"), (\"d\",\"c\"), (\"c\", \"a\")}\n",
    "    preferences = [([\"b\"], [\"a\", \"c\"])]\n",
    "    \n",
    "    Paf = paf.PAF(arguments, relations, preferences)\n",
    "    \n",
    "    if Paf.allArgumentsInPref() == False:\n",
    "        return True\n",
    "    else:\n",
    "        return False\n",
    "    \n",
    "testCase_7()"
   ]
  },
  {
   "cell_type": "code",
   "execution_count": 51,
   "metadata": {},
   "outputs": [
    {
     "data": {
      "text/plain": [
       "True"
      ]
     },
     "execution_count": 51,
     "metadata": {},
     "output_type": "execute_result"
    }
   ],
   "source": [
    "def testCase_8():\n",
    "    \"\"\"\n",
    "    Pref tiene todos los argumentos en A pero además hay argumentos que no están en A\n",
    "\n",
    "    \"\"\"\n",
    "    arguments = {\"a\", \"b\", \"c\", \"d\"}\n",
    "    relations = {(\"c\",\"d\"), (\"d\",\"c\"), (\"c\", \"a\")}\n",
    "    preferences = [([\"b\"], [\"a\", \"c\"], [\"d\", \"e\"])]\n",
    "    \n",
    "    Paf = paf.PAF(arguments, relations, preferences)\n",
    "    \n",
    "    if Paf.allArgumentsInPref() == False:\n",
    "        return True\n",
    "    else:\n",
    "        return False\n",
    "    \n",
    "testCase_8()"
   ]
  },
  {
   "cell_type": "markdown",
   "metadata": {},
   "source": [
    "###### Función: argInPref"
   ]
  },
  {
   "cell_type": "code",
   "execution_count": 52,
   "metadata": {},
   "outputs": [
    {
     "data": {
      "text/plain": [
       "True"
      ]
     },
     "execution_count": 52,
     "metadata": {},
     "output_type": "execute_result"
    }
   ],
   "source": [
    "def testCase_9():\n",
    "    \"\"\"\n",
    "    Un argumento en A está en Pref\n",
    "\n",
    "    \"\"\"\n",
    "    arguments = {\"a\", \"b\", \"c\", \"d\"}\n",
    "    relations = {(\"c\",\"d\"), (\"d\",\"c\"), (\"c\", \"a\")}\n",
    "    preferences = [([\"b\"], [\"a\", \"c\"], [\"d\"])]\n",
    "    \n",
    "    Paf = paf.PAF(arguments, relations, preferences)\n",
    "    \n",
    "    if Paf.argInPref(\"a\") == True:\n",
    "        return True\n",
    "    else:\n",
    "        return False\n",
    "    \n",
    "testCase_9()"
   ]
  },
  {
   "cell_type": "code",
   "execution_count": 53,
   "metadata": {},
   "outputs": [
    {
     "data": {
      "text/plain": [
       "True"
      ]
     },
     "execution_count": 53,
     "metadata": {},
     "output_type": "execute_result"
    }
   ],
   "source": [
    "def testCase_10():\n",
    "    \"\"\"\n",
    "    Un argumento en A no está en Pref\n",
    "\n",
    "    \"\"\"\n",
    "    arguments = {\"a\", \"b\", \"c\", \"d\"}\n",
    "    relations = {(\"c\",\"d\"), (\"d\",\"c\"), (\"c\", \"a\")}\n",
    "    preferences = [([\"b\"], [\"a\", \"c\"])]\n",
    "    \n",
    "    Paf = paf.PAF(arguments, relations, preferences)\n",
    "    \n",
    "    if Paf.argInPref(\"d\") == False:\n",
    "        return True\n",
    "    else:\n",
    "        return False\n",
    "    \n",
    "testCase_10()"
   ]
  },
  {
   "cell_type": "code",
   "execution_count": 55,
   "metadata": {},
   "outputs": [
    {
     "data": {
      "text/plain": [
       "True"
      ]
     },
     "execution_count": 55,
     "metadata": {},
     "output_type": "execute_result"
    }
   ],
   "source": [
    "def testCase_11():\n",
    "    \"\"\"\n",
    "    Pregunto por un argumento que no está en A y tampoco en Pref\n",
    "\n",
    "    \"\"\"\n",
    "    arguments = {\"a\", \"b\", \"c\", \"d\"}\n",
    "    relations = {(\"c\",\"d\"), (\"d\",\"c\"), (\"c\", \"a\")}\n",
    "    preferences = [([\"b\"], [\"a\", \"c\"])]\n",
    "    \n",
    "    Paf = paf.PAF(arguments, relations, preferences)\n",
    "    \n",
    "    if Paf.argInPref(\"w\") == None:\n",
    "        return True\n",
    "    else:\n",
    "        return False\n",
    "    \n",
    "testCase_11()"
   ]
  },
  {
   "cell_type": "code",
   "execution_count": 56,
   "metadata": {},
   "outputs": [
    {
     "data": {
      "text/plain": [
       "True"
      ]
     },
     "execution_count": 56,
     "metadata": {},
     "output_type": "execute_result"
    }
   ],
   "source": [
    "def testCase_12():\n",
    "    \"\"\"\n",
    "    Pregunto por un argumento que no está en A y está en Pref\n",
    "\n",
    "    \"\"\"\n",
    "    arguments = {\"a\", \"b\", \"c\", \"d\"}\n",
    "    relations = {(\"c\",\"d\"), (\"d\",\"c\"), (\"c\", \"a\")}\n",
    "    preferences = [([\"b\"], [\"a\", \"c\"], [\"e\"])]\n",
    "    \n",
    "    Paf = paf.PAF(arguments, relations, preferences)\n",
    "    \n",
    "    if Paf.argInPref(\"e\") == None:\n",
    "        return True\n",
    "    else:\n",
    "        return False\n",
    "    \n",
    "testCase_12()"
   ]
  },
  {
   "cell_type": "markdown",
   "metadata": {},
   "source": [
    "##### Función: relationsPaf"
   ]
  },
  {
   "cell_type": "code",
   "execution_count": 59,
   "metadata": {},
   "outputs": [
    {
     "data": {
      "text/plain": [
       "True"
      ]
     },
     "execution_count": 59,
     "metadata": {},
     "output_type": "execute_result"
    }
   ],
   "source": [
    "def testCase_13():\n",
    "    \"\"\"\n",
    "    Obtengo relaciones de ataque en el sentido PAF, a partir de R y Pref\n",
    "\n",
    "    \"\"\"\n",
    "    arguments = {\"a\", \"b\", \"c\", \"d\"}\n",
    "    relations = {(\"c\",\"d\"), (\"d\",\"c\"), (\"c\", \"a\")}\n",
    "    preferences = [([\"b\"], [\"a\", \"c\"], [\"d\"])]\n",
    "    \n",
    "    Paf = paf.PAF(arguments, relations, preferences)\n",
    "    \n",
    "    if Paf.relationsPaf() == {('c', 'd')}:\n",
    "        return True\n",
    "    else:\n",
    "        return False\n",
    "    \n",
    "testCase_13()"
   ]
  },
  {
   "cell_type": "code",
   "execution_count": 60,
   "metadata": {},
   "outputs": [
    {
     "data": {
      "text/plain": [
       "True"
      ]
     },
     "execution_count": 60,
     "metadata": {},
     "output_type": "execute_result"
    }
   ],
   "source": [
    "def testCase_14():\n",
    "    \"\"\"\n",
    "    Obtengo relaciones de ataque en el sentido PAF, a partir de R y Pref (Pref vacío)\n",
    "\n",
    "    \"\"\"\n",
    "    arguments = {\"a\", \"b\", \"c\", \"d\"}\n",
    "    relations = {(\"c\",\"d\"), (\"d\",\"c\"), (\"c\", \"a\")}\n",
    "    preferences = [()]\n",
    "    \n",
    "    Paf = paf.PAF(arguments, relations, preferences)\n",
    "    \n",
    "    if Paf.relationsPaf() == set():\n",
    "        return True\n",
    "    else:\n",
    "        return False\n",
    "    \n",
    "testCase_14()"
   ]
  },
  {
   "cell_type": "code",
   "execution_count": 61,
   "metadata": {},
   "outputs": [
    {
     "data": {
      "text/plain": [
       "True"
      ]
     },
     "execution_count": 61,
     "metadata": {},
     "output_type": "execute_result"
    }
   ],
   "source": [
    "def testCase_15():\n",
    "    \"\"\"\n",
    "    Obtengo relaciones de ataque en el sentido PAF, a partir de R (vacío) y Pref (vacío)\n",
    "\n",
    "    \"\"\"\n",
    "    arguments = {\"a\", \"b\", \"c\", \"d\"}\n",
    "    relations = set()\n",
    "    preferences = [()]\n",
    "    \n",
    "    Paf = paf.PAF(arguments, relations, preferences)\n",
    "    \n",
    "    if Paf.relationsPaf() == set():\n",
    "        return True\n",
    "    else:\n",
    "        return False\n",
    "    \n",
    "testCase_15()"
   ]
  },
  {
   "cell_type": "code",
   "execution_count": 62,
   "metadata": {},
   "outputs": [
    {
     "data": {
      "text/plain": [
       "True"
      ]
     },
     "execution_count": 62,
     "metadata": {},
     "output_type": "execute_result"
    }
   ],
   "source": [
    "def testCase_16():\n",
    "    \"\"\"\n",
    "    Obtengo relaciones de ataque en el sentido PAF, a partir de R (vacío) y Pref (no vacío)\n",
    "\n",
    "    \"\"\"\n",
    "    arguments = {\"a\", \"b\", \"c\", \"d\"}\n",
    "    relations = set()\n",
    "    preferences = [([\"a\"], [\"c\"])]\n",
    "    \n",
    "    Paf = paf.PAF(arguments, relations, preferences)\n",
    "    \n",
    "    if Paf.relationsPaf() == set():\n",
    "        return True\n",
    "    else:\n",
    "        return False\n",
    "    \n",
    "testCase_16()"
   ]
  },
  {
   "cell_type": "markdown",
   "metadata": {},
   "source": [
    "##### Función: is_completePref"
   ]
  },
  {
   "cell_type": "code",
   "execution_count": 66,
   "metadata": {},
   "outputs": [
    {
     "data": {
      "text/plain": [
       "True"
      ]
     },
     "execution_count": 66,
     "metadata": {},
     "output_type": "execute_result"
    }
   ],
   "source": [
    "def testCase_17():\n",
    "    \"\"\"\n",
    "    Pref no completa, no todo argumento en A aparece y por lo tanto no todo es comparable\n",
    "\n",
    "    \"\"\"\n",
    "    arguments = {\"a\", \"b\", \"c\", \"d\"}\n",
    "    relations = {(\"a\", \"b\")}\n",
    "    \n",
    "    preferences = [([\"a\"], [\"c\"])]\n",
    "    \n",
    "    Paf = paf.PAF(arguments, relations, preferences)\n",
    "    \n",
    "    if Paf.is_completePref() == False:\n",
    "        return True\n",
    "    else:\n",
    "        return False\n",
    "    \n",
    "testCase_17()"
   ]
  },
  {
   "cell_type": "code",
   "execution_count": 68,
   "metadata": {},
   "outputs": [
    {
     "data": {
      "text/plain": [
       "True"
      ]
     },
     "execution_count": 68,
     "metadata": {},
     "output_type": "execute_result"
    }
   ],
   "source": [
    "def testCase_18():\n",
    "    \"\"\"\n",
    "    Pref completa\n",
    "\n",
    "    \"\"\"\n",
    "    arguments = {\"a\", \"b\", \"c\", \"d\"}\n",
    "    relations = {(\"a\", \"b\")}\n",
    "    \n",
    "    preferences = [([\"a\"], [\"c\", \"b\"], [\"d\"])]\n",
    "    \n",
    "    Paf = paf.PAF(arguments, relations, preferences)\n",
    "    \n",
    "    if Paf.is_completePref() == True:\n",
    "        return True\n",
    "    else:\n",
    "        return False\n",
    "    \n",
    "testCase_18()"
   ]
  },
  {
   "cell_type": "code",
   "execution_count": 70,
   "metadata": {},
   "outputs": [
    {
     "data": {
      "text/plain": [
       "True"
      ]
     },
     "execution_count": 70,
     "metadata": {},
     "output_type": "execute_result"
    }
   ],
   "source": [
    "def testCase_19():\n",
    "    \"\"\"\n",
    "    Pref no completa, aparecen todos los argumentos en A pero por transitividad no son todos comparables\n",
    "\n",
    "    \"\"\"\n",
    "    arguments = {\"a\", \"b\", \"c\", \"d\"}\n",
    "    relations = {(\"a\", \"b\")}\n",
    "    \n",
    "    preferences = [([\"a\"], [\"b\"]), ([\"c\"], [\"d\"])]\n",
    "    \n",
    "    Paf = paf.PAF(arguments, relations, preferences)\n",
    "    \n",
    "    if Paf.is_completePref() == False:\n",
    "        return True\n",
    "    else:\n",
    "        return False\n",
    "    \n",
    "testCase_19()"
   ]
  },
  {
   "cell_type": "code",
   "execution_count": 74,
   "metadata": {},
   "outputs": [
    {
     "data": {
      "text/plain": [
       "True"
      ]
     },
     "execution_count": 74,
     "metadata": {},
     "output_type": "execute_result"
    }
   ],
   "source": [
    "def testCase_20():\n",
    "    \"\"\"\n",
    "    Pref incorrecta, Pref con un argumento extra no en A\n",
    "\n",
    "    \"\"\"\n",
    "    arguments = {\"a\", \"b\", \"c\", \"d\"}\n",
    "    relations = {(\"a\", \"b\")}\n",
    "    \n",
    "    preferences = [([\"a\"], [\"c\", \"b\"], [\"d\"], [\"e\"])]\n",
    "    \n",
    "    Paf = paf.PAF(arguments, relations, preferences)\n",
    "    \n",
    "    if Paf.is_completePref() == False:\n",
    "        return True\n",
    "    else:\n",
    "        return False\n",
    "    \n",
    "testCase_20()"
   ]
  },
  {
   "cell_type": "code",
   "execution_count": null,
   "metadata": {},
   "outputs": [],
   "source": []
  }
 ],
 "metadata": {
  "kernelspec": {
   "display_name": "Python 3",
   "language": "python",
   "name": "python3"
  },
  "language_info": {
   "codemirror_mode": {
    "name": "ipython",
    "version": 3
   },
   "file_extension": ".py",
   "mimetype": "text/x-python",
   "name": "python",
   "nbconvert_exporter": "python",
   "pygments_lexer": "ipython3",
   "version": "3.6.9"
  }
 },
 "nbformat": 4,
 "nbformat_minor": 4
}
